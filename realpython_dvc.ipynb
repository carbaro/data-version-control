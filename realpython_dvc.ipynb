{
 "cells": [
  {
   "cell_type": "markdown",
   "metadata": {},
   "source": [
    "# Using DVC for Data and Model version within a Git repo\n",
    "Based on [RealPython's Tutorial](https://realpython.com/python-data-version-control/)"
   ]
  },
  {
   "cell_type": "markdown",
   "metadata": {},
   "source": [
    "## Set up DVC and its environment"
   ]
  },
  {
   "cell_type": "code",
   "execution_count": null,
   "metadata": {},
   "outputs": [],
   "source": [
    "!conda create -n dvc python=3.8.2"
   ]
  },
  {
   "cell_type": "code",
   "execution_count": null,
   "metadata": {},
   "outputs": [],
   "source": [
    "#activate dvc\n",
    "!conda config --add channels conda-forge\n",
    "!python -m pip install dvc scikit-learn scikit-image pandas numpy"
   ]
  },
  {
   "cell_type": "markdown",
   "metadata": {},
   "source": [
    "## Clone forked repo"
   ]
  },
  {
   "cell_type": "code",
   "execution_count": null,
   "metadata": {},
   "outputs": [],
   "source": [
    "!git clone https://github.com/carbaro/data-version-control.git "
   ]
  },
  {
   "cell_type": "code",
   "execution_count": 3,
   "metadata": {},
   "outputs": [],
   "source": [
    "!cd data-version-control"
   ]
  },
  {
   "cell_type": "code",
   "execution_count": 5,
   "metadata": {},
   "outputs": [
    {
     "name": "stdout",
     "output_type": "stream",
     "text": [
      "f:\\AI\\tools\\DVC\\realpython_tutorial\n"
     ]
    }
   ],
   "source": [
    "!echo %CD%"
   ]
  },
  {
   "cell_type": "code",
   "execution_count": 8,
   "metadata": {},
   "outputs": [
    {
     "name": "stdout",
     "output_type": "stream",
     "text": [
      "data-version-control\n"
     ]
    }
   ],
   "source": [
    "DVC = 'data-version-control'\n",
    "!echo $DVC"
   ]
  },
  {
   "cell_type": "markdown",
   "metadata": {},
   "source": [
    "## setup git and dvc"
   ]
  },
  {
   "cell_type": "code",
   "execution_count": null,
   "metadata": {},
   "outputs": [],
   "source": [
    "!git checkout -b \"first_experiment\"\n",
    "!dvc init\n",
    "!dvc config core.analytics false"
   ]
  },
  {
   "cell_type": "markdown",
   "metadata": {},
   "source": [
    "## Setup \"Remote\" storage"
   ]
  },
  {
   "cell_type": "code",
   "execution_count": null,
   "metadata": {},
   "outputs": [],
   "source": [
    "!dvc remote add -d remote_storage F:\\data\\dvc\\dvc_remote_realpy"
   ]
  },
  {
   "cell_type": "markdown",
   "metadata": {},
   "source": [
    "## Track files"
   ]
  },
  {
   "cell_type": "code",
   "execution_count": null,
   "metadata": {},
   "outputs": [],
   "source": [
    "!dvc add data/raw/train\n",
    "!dvc add data/raw/val\n",
    "!git add --all\n",
    "!git commit -m \"First commit with setup and DVC files\""
   ]
  },
  {
   "cell_type": "code",
   "execution_count": null,
   "metadata": {},
   "outputs": [],
   "source": [
    "!dvc push\n",
    "!git push --set-upstream origin first_experimen"
   ]
  },
  {
   "cell_type": "markdown",
   "metadata": {},
   "source": [
    "## Downloading Files"
   ]
  },
  {
   "cell_type": "code",
   "execution_count": null,
   "metadata": {},
   "outputs": [],
   "source": [
    "# delete e.g. raw/val\n",
    "!dvc checkout /data/raw/val.dvc #or\n",
    "!dvc pull"
   ]
  },
  {
   "cell_type": "markdown",
   "metadata": {},
   "source": [
    "## Train a Model"
   ]
  },
  {
   "cell_type": "code",
   "execution_count": null,
   "metadata": {},
   "outputs": [],
   "source": [
    "!python src/prepare.py\n",
    "!python src/train.py\n",
    "!dvc add model/model.joblib\n",
    "!git add --all\n",
    "!git commit -m \"Trained SGD Classifier\"\n"
   ]
  },
  {
   "cell_type": "markdown",
   "metadata": {},
   "source": [
    "## Evaluate"
   ]
  },
  {
   "cell_type": "code",
   "execution_count": null,
   "metadata": {},
   "outputs": [],
   "source": [
    "!python src/evaluate.py"
   ]
  },
  {
   "cell_type": "code",
   "execution_count": null,
   "metadata": {},
   "outputs": [],
   "source": [
    "!git add --all\n",
    "!git commit -m \"Evaluate SGD accuracy\""
   ]
  },
  {
   "cell_type": "markdown",
   "metadata": {},
   "source": [
    "## Versioning Dataset and Models "
   ]
  },
  {
   "cell_type": "code",
   "execution_count": null,
   "metadata": {},
   "outputs": [],
   "source": [
    "!git push\n",
    "!dvc push"
   ]
  },
  {
   "cell_type": "markdown",
   "metadata": {},
   "source": [
    "### Tagging Commits (marks significant point in history of repo)"
   ]
  },
  {
   "cell_type": "code",
   "execution_count": null,
   "metadata": {},
   "outputs": [],
   "source": [
    "!git tag -a sgd-classifier -m \"SGDClassifier with accuracy 67.06%\""
   ]
  },
  {
   "cell_type": "code",
   "execution_count": null,
   "metadata": {},
   "outputs": [],
   "source": [
    "!git push origin --tags"
   ]
  },
  {
   "cell_type": "markdown",
   "metadata": {},
   "source": [
    "# Creating one git branch per experiment"
   ]
  },
  {
   "cell_type": "code",
   "execution_count": null,
   "metadata": {},
   "outputs": [],
   "source": [
    "!git checkout -b \"sgd-100-iters\"\n",
    "!python src/train.py\n",
    "!python src/evaluate.py"
   ]
  },
  {
   "cell_type": "code",
   "execution_count": null,
   "metadata": {},
   "outputs": [],
   "source": [
    "# save new model.joblib\n",
    "!dvc commit\n",
    "# confirm with y"
   ]
  },
  {
   "cell_type": "code",
   "execution_count": null,
   "metadata": {},
   "outputs": [],
   "source": [
    "!git add --all\n",
    "!git commit -m \"Change SGD max_iter to 100\"\n",
    "\n",
    "!git tag -a sgd-100-iter -m \"Trained an SGD Classifier for 100 iterations\"\n",
    "!git push origin --tags\n",
    "\n",
    "!git push --set-upstream origin sgd-100-iter\n",
    "!dvc push\n"
   ]
  },
  {
   "cell_type": "markdown",
   "metadata": {},
   "source": [
    "# Create Reproducible Pipelines"
   ]
  },
  {
   "cell_type": "code",
   "execution_count": null,
   "metadata": {},
   "outputs": [],
   "source": [
    "!git checkout -b sgd-pipeline"
   ]
  },
  {
   "cell_type": "markdown",
   "metadata": {},
   "source": [
    "## define  pipeline stages\n",
    "### Note: [RealPython Tutorial](https://realpython.com/python-data-version-control/#create-reproducible-pipelines) advises to use \n",
    "\n",
    "```bash\n",
    "dvc run -n stage_name \\\n",
    "    -d dep1 -d dep2\n",
    "    -o output1\n",
    "    python script.py\n",
    "```\n",
    "\n",
    "### However, DVC (3.28.0) does not have an option called run. Instead, the method used was that advised on [DVC Docs](https://dvc.org/doc/user-guide/pipelines/defining-pipelines)\n",
    "\n",
    "```bash\n",
    "dvc stage add --name train \\\n",
    "                --deps src/model.py \\\n",
    "                --deps data/clean.csv \\\n",
    "                --outs data/predict.dat \\\n",
    "                python src/model.py data/clean.csv\n",
    "```"
   ]
  },
  {
   "cell_type": "code",
   "execution_count": 1,
   "metadata": {},
   "outputs": [],
   "source": [
    "flatten_stage_cmd = lambda cmd: cmd.replace('\\\\n    ', '').replace('\\n','')\n",
    "\n",
    "prepare_cmd = \"\"\"\n",
    "dvc stage add -n prepare \n",
    "    -d src/prepare.py -d data/raw \n",
    "    -o data/prepared/train.csv -o data/prepared/test.csv \n",
    "    python src/prepare.py\n",
    "    \"\"\"\n",
    "train_cmd = \"\"\"\n",
    "dvc stage add -n train\n",
    "    -d src/train.py -d data/prepared/train.csv \n",
    "    -o model/model.joblib \n",
    "    python src/train.py\n",
    "    \"\"\"\n",
    "evaluate_cmd = \"\"\"\n",
    "dvc stage add -n evaluate\n",
    "    -d src/evaluate.py -d model/model.joblib\n",
    "    -M metrics/accuracy.json\n",
    "    python src/evaluate.py\n",
    "    \"\"\"\n",
    "\n",
    "flat_stage_cmds = [flatten_stage_cmd(cmd) for cmd in (prepare_cmd,train_cmd,evaluate_cmd)]"
   ]
  },
  {
   "cell_type": "code",
   "execution_count": 2,
   "metadata": {},
   "outputs": [
    {
     "name": "stdout",
     "output_type": "stream",
     "text": [
      "dvc stage add -n prepare     -d src/prepare.py -d data/raw     -o data/prepared/train.csv -o data/prepared/val.csv     python src/prepare.py    \n",
      "dvc stage add -n train    -d src/train.py -d data/prepared/train.csv     -o model/model.joblib     python src/train.py    \n",
      "dvc stage add -n evaluate    -d src/evaluate.py -d model/model.joblib    -M metrics/accuracy.json    python src/evaluate.py    \n"
     ]
    }
   ],
   "source": [
    "_=[print(fcmd) for fcmd in flat_stage_cmds]"
   ]
  },
  {
   "cell_type": "markdown",
   "metadata": {},
   "source": [
    "### Since the actual pipline was not run, we now need to run the pipeline as an experiment\n",
    "\n",
    "### See [DVC Docs](https://dvc.org/doc/user-guide/pipelines/running-pipelines) for details"
   ]
  },
  {
   "cell_type": "code",
   "execution_count": null,
   "metadata": {},
   "outputs": [],
   "source": [
    "!dvc exp run"
   ]
  },
  {
   "cell_type": "markdown",
   "metadata": {},
   "source": [
    "# ------------------ TODO: use params to adjust iters ------------------------"
   ]
  },
  {
   "cell_type": "markdown",
   "metadata": {},
   "source": [
    "## commit changes"
   ]
  },
  {
   "cell_type": "code",
   "execution_count": null,
   "metadata": {},
   "outputs": [],
   "source": [
    "!git add --all\n",
    "!git commit -m \"Rerun SGD as pipeline\"\n",
    "!dvc commit\n",
    "!git push --set-upstream origin sgd-pipeline\n",
    "!git tag -a sgd-pipeline -m \"Trained SGD as DVC pipeline.\"\n",
    "!git push origin --tags\n",
    "!dvc push"
   ]
  },
  {
   "cell_type": "markdown",
   "metadata": {},
   "source": [
    "I would like to make use of the DVC VSCode Extension, where I can track experiments and compare plots within the same UI \n",
    "\n",
    "\n",
    "(No need to start up tensorboard on the browser, manually delete unwanted folders, manage colours, etc.)\n",
    "\n",
    "So, as an interlude, I've included the code necessary to integrate DVC Extension, which depends on  DVCLive. See details at the [Iterative Blog post on DVC Tracking](https://iterative.ai/blog/exp-tracking-dvc-python?tab=General-Python-API)\n"
   ]
  },
  {
   "cell_type": "markdown",
   "metadata": {},
   "source": [
    "Install the extension and pick the correct (DVC) environment in Setup.\n",
    "\n",
    "Following that, modify train.py to integrate DVC Live"
   ]
  },
  {
   "cell_type": "code",
   "execution_count": null,
   "metadata": {},
   "outputs": [],
   "source": []
  }
 ],
 "metadata": {
  "kernelspec": {
   "display_name": "dvc",
   "language": "python",
   "name": "python3"
  },
  "language_info": {
   "codemirror_mode": {
    "name": "ipython",
    "version": 3
   },
   "file_extension": ".py",
   "mimetype": "text/x-python",
   "name": "python",
   "nbconvert_exporter": "python",
   "pygments_lexer": "ipython3",
   "version": "3.8.2"
  }
 },
 "nbformat": 4,
 "nbformat_minor": 2
}
